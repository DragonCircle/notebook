{
 "cells": [
  {
   "cell_type": "code",
   "execution_count": 1,
   "metadata": {
    "collapsed": false
   },
   "outputs": [],
   "source": [
    "import GPy\n",
    "from GPy.inference.optimization import Optimizer\n",
    "%matplotlib inline"
   ]
  },
  {
   "cell_type": "markdown",
   "metadata": {},
   "source": [
    "## Implementing a new optimizer\n",
    "\n",
    "Though GPy contains many inbuilt optimisers, including many of those implemented within scipy, there are cases where optimisers that have not yet been implemented within GPy could aid the optimisation of certain models. For example in recent years there has been an explosion of interest in stochastic methods of optimisation, where only approximate gradients are required. Many default optimisers cannot allow for this situation, and many new and effective optimisers have been proposed. It would be neat if we were able to implement new optimisers easily and still make use of the GPy framework for the rest of model development.\n",
    "\n",
    "In Paramz/GPy we can implement an own optimizer in a very simple way. We simply need to supply GPy with an implementation of the Optimizer class, and the rest will be handled automatically.\n",
    "\n",
    "The Optimizer has a `opt_name` parameter, which is the important and should not be shared with any other optimizers.\n",
    "\n",
    "It also must provide an implementation of the `opt()` method, which opitmizes the result given an optimization function and a starting point.\n",
    "\n",
    "We will illustrate the implementation of a new optimiser for GPy using an external package containing many optimisers called `climin`. Specifically we will integrate the \"Rprop\" optimiser for use in GPy."
   ]
  },
  {
   "cell_type": "code",
   "execution_count": 2,
   "metadata": {
    "collapsed": true
   },
   "outputs": [],
   "source": [
    "import climin"
   ]
  },
  {
   "cell_type": "code",
   "execution_count": 3,
   "metadata": {
    "collapsed": true
   },
   "outputs": [],
   "source": [
    "# Get the parameters for Rprop of climin:\n",
    "climin.Rprop?"
   ]
  },
  {
   "cell_type": "markdown",
   "metadata": {},
   "source": [
    "Simply inherit from the `GPy.inference.optimization.Optimizer` class, provide a instance variable `opt_name`, and implement the `opt` method to make steps in the optimisation, in order to find the modal value of the log marginal likelihood."
   ]
  },
  {
   "cell_type": "code",
   "execution_count": 4,
   "metadata": {
    "collapsed": true
   },
   "outputs": [],
   "source": [
    "class RProp(Optimizer):\n",
    "    \"\"\"\n",
    "    Rprop implementation from climin\n",
    "    \"\"\"\n",
    "    # We want the optimizer to know some things in the Optimizer implementation:\n",
    "    def __init__(self, step_shrink=0.5, step_grow=1.2, min_step=1e-06, max_step=1, changes_max=0.1, *args, **kwargs):\n",
    "        super(RProp, self).__init__(*args, **kwargs)\n",
    "        self.opt_name = 'RProp (climin)'\n",
    "        self.step_shrink = step_shrink\n",
    "        self.step_grow = step_grow\n",
    "        self.min_step = min_step\n",
    "        self.max_step = max_step\n",
    "        self.changes_max = changes_max\n",
    "        \n",
    "    def opt(self, x_init, f_fp=None, f=None, fp=None):\n",
    "        \"\"\"\n",
    "        :param x_init: current parameter values in an np.ndarray (num_parameters)\n",
    "        :param f_fp: function for evalating the log_likelihood at the current parameters and\n",
    "                     its gradients wrt to the parameters\n",
    "        :param f: function for evaluating the log_likelihood with the current parameters\n",
    "        :param fp: function for evaluating gradient the log_likelihood with teh current parameters,\n",
    "                   wrt the all the parameters\n",
    "        \"\"\"\n",
    "        # We only need the gradient of the log likelihood, but this must be provided\n",
    "        assert not fp is None\n",
    "\n",
    "        # Do the optimization, giving previously stored parameters\n",
    "        opt = climin.rprop.Rprop(x_init, fp, \n",
    "                                 step_shrink=self.step_shrink, step_grow=self.step_grow, \n",
    "                                 min_step=self.min_step, max_step=self.max_step, \n",
    "                                 changes_max=self.changes_max)\n",
    "\n",
    "        # Get the optimized state and transform it into Paramz readable format by setting\n",
    "        # values on this object:\n",
    "        # Important ones are x_opt and status:\n",
    "        for info in opt:\n",
    "            if info['n_iter']>=self.max_iters:\n",
    "                self.x_opt =  opt.wrt\n",
    "                self.status = 'maximum number of function evaluations exceeded'\n",
    "                break"
   ]
  },
  {
   "cell_type": "markdown",
   "metadata": {},
   "source": [
    "This is all we need to implement, GPy/Paramz will handle the rest for you. Lets consider an example:"
   ]
  },
  {
   "cell_type": "code",
   "execution_count": 5,
   "metadata": {
    "collapsed": true
   },
   "outputs": [],
   "source": [
    "m = GPy.examples.regression.toy_rbf_1d_50(optimize=False, plot=False)"
   ]
  },
  {
   "cell_type": "markdown",
   "metadata": {},
   "source": [
    "This is the model plot before optimization:"
   ]
  },
  {
   "cell_type": "code",
   "execution_count": 6,
   "metadata": {
    "collapsed": false
   },
   "outputs": [
    {
     "data": {
      "text/html": [
       "<style type=\"text/css\">\n",
       ".pd{\n",
       "    font-family: \"Courier New\", Courier, monospace !important;\n",
       "    width: 100%;\n",
       "    padding: 3px;\n",
       "}\n",
       "</style>\n",
       "\n",
       "<p class=pd>\n",
       "<b>Model</b>: GP regression<br>\n",
       "<b>Objective</b>: 70.4593780745<br>\n",
       "<b>Number of Parameters</b>: 3<br>\n",
       "<b>Number of Optimization Parameters</b>: 3<br>\n",
       "<b>Updates</b>: True<br>\n",
       "</p>\n",
       "<style type=\"text/css\">\n",
       ".tg  {font-family:\"Courier New\", Courier, monospace !important;padding:2px 3px;word-break:normal;border-collapse:collapse;border-spacing:0;border-color:#DCDCDC;margin:0px auto;width:100%;}\n",
       ".tg td{font-family:\"Courier New\", Courier, monospace !important;font-weight:bold;color:#444;background-color:#F7FDFA;border-style:solid;border-width:1px;overflow:hidden;word-break:normal;border-color:#DCDCDC;}\n",
       ".tg th{font-family:\"Courier New\", Courier, monospace !important;font-weight:normal;color:#fff;background-color:#26ADE4;border-style:solid;border-width:1px;overflow:hidden;word-break:normal;border-color:#DCDCDC;}\n",
       ".tg .tg-left{font-family:\"Courier New\", Courier, monospace !important;font-weight:normal;text-align:left;}\n",
       ".tg .tg-center{font-family:\"Courier New\", Courier, monospace !important;font-weight:normal;text-align:center;}\n",
       ".tg .tg-right{font-family:\"Courier New\", Courier, monospace !important;font-weight:normal;text-align:right;}\n",
       "</style>\n",
       "<table class=\"tg\"><tr><th><b>  GP_regression.         </b></th><th><b>value</b></th><th><b>constraints</b></th><th><b>priors</b></th></tr>\n",
       "<tr><td class=tg-left>  rbf.variance           </td><td class=tg-right>  1.0</td><td class=tg-center>    +ve    </td><td class=tg-center>      </td></tr>\n",
       "<tr><td class=tg-left>  rbf.lengthscale        </td><td class=tg-right>  1.0</td><td class=tg-center>    +ve    </td><td class=tg-center>      </td></tr>\n",
       "<tr><td class=tg-left>  Gaussian_noise.variance</td><td class=tg-right>  1.0</td><td class=tg-center>    +ve    </td><td class=tg-center>      </td></tr>\n",
       "</table>"
      ],
      "text/plain": [
       "<GPy.models.gp_regression.GPRegression at 0x105fdaa10>"
      ]
     },
     "execution_count": 6,
     "metadata": {},
     "output_type": "execute_result"
    }
   ],
   "source": [
    "m"
   ]
  },
  {
   "cell_type": "code",
   "execution_count": 7,
   "metadata": {
    "collapsed": false
   },
   "outputs": [
    {
     "data": {
      "text/plain": [
       "<matplotlib.axes._subplots.AxesSubplot at 0x114a09990>"
      ]
     },
     "execution_count": 7,
     "metadata": {},
     "output_type": "execute_result"
    },
    {
     "name": "stderr",
     "output_type": "stream",
     "text": [
      " /Users/alansaul/anaconda/lib/python2.7/site-packages/matplotlib/figure.py:1744: UserWarning:This figure includes Axes that are not compatible with tight_layout, so its results might be incorrect.\n"
     ]
    },
    {
     "data": {
      "image/png": "[encoded data removed]",
      "text/plain": [
       "<matplotlib.figure.Figure at 0x114a26650>"
      ]
     },
     "metadata": {},
     "output_type": "display_data"
    }
   ],
   "source": [
    "m.plot()"
   ]
  },
  {
   "cell_type": "code",
   "execution_count": 8,
   "metadata": {
    "collapsed": false
   },
   "outputs": [
    {
     "data": {
      "text/plain": [
       "<__main__.RProp at 0x115d4c250>"
      ]
     },
     "execution_count": 8,
     "metadata": {},
     "output_type": "execute_result"
    }
   ],
   "source": [
    "m.optimize(RProp(), messages=1)"
   ]
  },
  {
   "cell_type": "markdown",
   "metadata": {},
   "source": [
    "And then the optimized state after running RProp:"
   ]
  },
  {
   "cell_type": "code",
   "execution_count": 9,
   "metadata": {
    "collapsed": false
   },
   "outputs": [
    {
     "data": {
      "text/html": [
       "<style type=\"text/css\">\n",
       ".pd{\n",
       "    font-family: \"Courier New\", Courier, monospace !important;\n",
       "    width: 100%;\n",
       "    padding: 3px;\n",
       "}\n",
       "</style>\n",
       "\n",
       "<p class=pd>\n",
       "<b>Model</b>: GP regression<br>\n",
       "<b>Objective</b>: -14.9483197718<br>\n",
       "<b>Number of Parameters</b>: 3<br>\n",
       "<b>Number of Optimization Parameters</b>: 3<br>\n",
       "<b>Updates</b>: True<br>\n",
       "</p>\n",
       "<style type=\"text/css\">\n",
       ".tg  {font-family:\"Courier New\", Courier, monospace !important;padding:2px 3px;word-break:normal;border-collapse:collapse;border-spacing:0;border-color:#DCDCDC;margin:0px auto;width:100%;}\n",
       ".tg td{font-family:\"Courier New\", Courier, monospace !important;font-weight:bold;color:#444;background-color:#F7FDFA;border-style:solid;border-width:1px;overflow:hidden;word-break:normal;border-color:#DCDCDC;}\n",
       ".tg th{font-family:\"Courier New\", Courier, monospace !important;font-weight:normal;color:#fff;background-color:#26ADE4;border-style:solid;border-width:1px;overflow:hidden;word-break:normal;border-color:#DCDCDC;}\n",
       ".tg .tg-left{font-family:\"Courier New\", Courier, monospace !important;font-weight:normal;text-align:left;}\n",
       ".tg .tg-center{font-family:\"Courier New\", Courier, monospace !important;font-weight:normal;text-align:center;}\n",
       ".tg .tg-right{font-family:\"Courier New\", Courier, monospace !important;font-weight:normal;text-align:right;}\n",
       "</style>\n",
       "<table class=\"tg\"><tr><th><b>  GP_regression.         </b></th><th><b>          value</b></th><th><b>constraints</b></th><th><b>priors</b></th></tr>\n",
       "<tr><td class=tg-left>  rbf.variance           </td><td class=tg-right>  2.21219137396</td><td class=tg-center>    +ve    </td><td class=tg-center>      </td></tr>\n",
       "<tr><td class=tg-left>  rbf.lengthscale        </td><td class=tg-right> 0.271867056443</td><td class=tg-center>    +ve    </td><td class=tg-center>      </td></tr>\n",
       "<tr><td class=tg-left>  Gaussian_noise.variance</td><td class=tg-right>0.0107328329112</td><td class=tg-center>    +ve    </td><td class=tg-center>      </td></tr>\n",
       "</table>"
      ],
      "text/plain": [
       "<GPy.models.gp_regression.GPRegression at 0x105fdaa10>"
      ]
     },
     "execution_count": 9,
     "metadata": {},
     "output_type": "execute_result"
    }
   ],
   "source": [
    "m"
   ]
  },
  {
   "cell_type": "code",
   "execution_count": 10,
   "metadata": {
    "collapsed": false
   },
   "outputs": [
    {
     "data": {
      "text/plain": [
       "<matplotlib.axes._subplots.AxesSubplot at 0x115e56210>"
      ]
     },
     "execution_count": 10,
     "metadata": {},
     "output_type": "execute_result"
    },
    {
     "data": {
      "image/png": "[encoded data removed]",
      "text/plain": [
       "<matplotlib.figure.Figure at 0x115e528d0>"
      ]
     },
     "metadata": {},
     "output_type": "display_data"
    }
   ],
   "source": [
    "m.plot()"
   ]
  }
 ],
 "metadata": {
  "kernelspec": {
   "display_name": "Python 2",
   "language": "python",
   "name": "python2"
  },
  "language_info": {
   "codemirror_mode": {
    "name": "ipython",
    "version": 2
   },
   "file_extension": ".py",
   "mimetype": "text/x-python",
   "name": "python",
   "nbconvert_exporter": "python",
   "pygments_lexer": "ipython2",
   "version": "2.7.12"
  },
  "widgets": {
   "state": {
    "0d94cf8da8354405aaae3659f4308b6e": {
     "views": []
    },
    "206e574db10645128be20a1e836b9f0e": {
     "views": []
    },
    "2dc0ffbcc220485e8547973edea28f32": {
     "views": []
    },
    "37e5dd57508f41c280d4520ac33347f9": {
     "views": []
    },
    "464a67d6546740508b503a3a02aa00b8": {
     "views": []
    },
    "472678fb16ff4c05a21dcc746768d8c7": {
     "views": []
    },
    "5f002c0640e44ca28fcdb147da16db23": {
     "views": []
    },
    "623d3c47625048afafaa70024545e113": {
     "views": []
    },
    "69175c5a82d0488eb3f50d8d854142e5": {
     "views": []
    },
    "78c6db4fe42f486f882b19274b1fe2a7": {
     "views": []
    },
    "7bda5457da314056bdc56a0210de0516": {
     "views": []
    },
    "7e30470405cf46099a8d43a618497023": {
     "views": []
    },
    "9791725aae0142a4a13ca51ac838f852": {
     "views": []
    },
    "bd010b2eb25a45f6a81b7771f694fe46": {
     "views": []
    },
    "c099b1eae5594b048fc2d238dead8d1e": {
     "views": []
    },
    "c9e158f663a9454da28249d23d1e2f60": {
     "views": []
    },
    "cacbea8006b94814a49678d2a896b957": {
     "views": []
    },
    "cf425fd7f46f492ab78ac520ea91077b": {
     "views": []
    },
    "d60ae7eaa52740b9b907c551f9412674": {
     "views": []
    },
    "dfdb7868e1594230a5a56a5cb0cdd35d": {
     "views": []
    },
    "e3a2644934de413ba28c3dfa816001e1": {
     "views": []
    },
    "f4eac5c4b418404ebf955243f630aef4": {
     "views": []
    },
    "f64b635b80164b92adf2844844417a68": {
     "views": [
      {
       "cell_index": 11
      }
     ]
    },
    "fba0fdc8a2ba4edb9e70c499ec6e348c": {
     "views": []
    }
   },
   "version": "1.1.1"
  }
 },
 "nbformat": 4,
 "nbformat_minor": 0
}
